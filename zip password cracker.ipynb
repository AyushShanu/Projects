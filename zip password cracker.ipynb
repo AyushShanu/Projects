{
 "cells": [
  {
   "cell_type": "code",
   "execution_count": null,
   "id": "67917f38",
   "metadata": {},
   "outputs": [],
   "source": [
    "import zipfile\n",
    "\n",
    "def extract_zip(zip_file, password):\n",
    "    try:\n",
    "        zip_file.extractall(pwd=password.encode())\n",
    "        print(f\"Password found: {password}\")\n",
    "        return True\n",
    "    except Exception as e:\n",
    "        return False\n",
    "\n",
    "def brute_force_zip(zip_file, dictionary):\n",
    "    with open(dictionary, 'r') as f:\n",
    "        for line in f.readlines():\n",
    "            password = line.strip()\n",
    "            if extract_zip(zip_file, password):\n",
    "                return password\n",
    "    return None\n",
    "\n",
    "if __name__ == \"__main__\":\n",
    "    zip_file_name = \"protected.zip\"  # Replace with your zip file name\n",
    "    dictionary_file = \"dictionary.txt\"  # Replace with your dictionary file name\n",
    "\n",
    "    try:\n",
    "        zip_file = zipfile.ZipFile(zip_file_name)\n",
    "    except FileNotFoundError:\n",
    "        print(\"Zip file not found.\")\n",
    "    else:\n",
    "        password = brute_force_zip(zip_file, dictionary_file)\n",
    "        if password:\n",
    "            print(f\"Password found: {password}\")\n",
    "        else:\n",
    "            print(\"Password not found.\")\n"
   ]
  }
 ],
 "metadata": {
  "kernelspec": {
   "display_name": "Python 3 (ipykernel)",
   "language": "python",
   "name": "python3"
  },
  "language_info": {
   "codemirror_mode": {
    "name": "ipython",
    "version": 3
   },
   "file_extension": ".py",
   "mimetype": "text/x-python",
   "name": "python",
   "nbconvert_exporter": "python",
   "pygments_lexer": "ipython3",
   "version": "3.11.4"
  }
 },
 "nbformat": 4,
 "nbformat_minor": 5
}
