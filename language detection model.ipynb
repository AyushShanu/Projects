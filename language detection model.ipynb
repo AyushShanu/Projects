{
 "cells": [
  {
   "cell_type": "code",
   "execution_count": null,
   "id": "c6aac8ad",
   "metadata": {},
   "outputs": [],
   "source": [
    "from langdetect import detect\n",
    "import pandas as pd\n",
    "\n",
    "def detect_language(text):\n",
    "    try:\n",
    "        language = detect(text)\n",
    "        return language\n",
    "    except:\n",
    "        return \"Unknown\"\n",
    "\n",
    "def language_detection_project():\n",
    "    # Load dataset containing texts in multiple languages\n",
    "    dataset = pd.read_csv(\"multilingual_texts.csv\")  # Replace \"multilingual_texts.csv\" with your dataset file\n",
    "\n",
    "    # Add a new column for detected languages\n",
    "    dataset[\"Detected Language\"] = dataset[\"Text\"].apply(detect_language)\n",
    "\n",
    "    # Print the dataset with detected languages\n",
    "    print(\"Dataset with Detected Languages:\")\n",
    "    print(dataset)\n",
    "\n",
    "    # Save the dataset with detected languages to a new CSV file\n",
    "    dataset.to_csv(\"multilingual_texts_with_languages.csv\", index=False)\n",
    "    print(\"\\nDataset with detected languages saved to 'multilingual_texts_with_languages.csv'\")\n",
    "\n",
    "if __name__ == \"__main__\":\n",
    "    language_detection_project()\n"
   ]
  }
 ],
 "metadata": {
  "kernelspec": {
   "display_name": "Python 3 (ipykernel)",
   "language": "python",
   "name": "python3"
  },
  "language_info": {
   "codemirror_mode": {
    "name": "ipython",
    "version": 3
   },
   "file_extension": ".py",
   "mimetype": "text/x-python",
   "name": "python",
   "nbconvert_exporter": "python",
   "pygments_lexer": "ipython3",
   "version": "3.11.4"
  }
 },
 "nbformat": 4,
 "nbformat_minor": 5
}
